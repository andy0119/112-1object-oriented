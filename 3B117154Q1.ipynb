{
 "cells": [
  {
   "cell_type": "code",
   "execution_count": 11,
   "id": "255cca06",
   "metadata": {},
   "outputs": [
    {
     "name": "stdout",
     "output_type": "stream",
     "text": [
      "請輸入第 1 位學生的成績 輸入-1結束: 50\n",
      "請輸入第 2 位學生的成績 輸入-1結束: 60\n",
      "請輸入第 3 位學生的成績 輸入-1結束: 70\n",
      "請輸入第 4 位學生的成績 輸入-1結束: 80\n",
      "請輸入第 5 位學生的成績 輸入-1結束: 90\n",
      "請輸入第 6 位學生的成績 輸入-1結束: 100\n",
      "請輸入第 7 位學生的成績 輸入-1結束: -1\n",
      "\n",
      "班級學生人數: 6\n",
      "班級平均成績: 75.00\n",
      "A 2\n",
      "B 1\n",
      "C 1\n",
      "D 1\n",
      "F 1\n"
     ]
    }
   ],
   "source": [
    "def get_grade(score):\n",
    "    if (90 <= score <= 100):\n",
    "        return 'A'\n",
    "    elif (80 <= score <= 89):\n",
    "        return 'B'\n",
    "    elif (70 <= score <= 79):\n",
    "        return 'C'\n",
    "    elif (60 <= score <= 69):\n",
    "        return 'D'\n",
    "    else:\n",
    "        return 'F'\n",
    "grades = []\n",
    "gradeSeries = {'A': 0, 'B': 0, 'C': 0, 'D': 0, 'F': 0}\n",
    "totalScore = 0\n",
    "numStudents = 0\n",
    "while True:\n",
    "    score = input(f\"請輸入第 {numStudents + 1} 位學生的成績 輸入-1結束: \")\n",
    "    if score == \"-1\":\n",
    "        break\n",
    "\n",
    "    score = int(score)\n",
    "\n",
    "    if 0 <= score <= 100:\n",
    "        grade = get_grade(score)\n",
    "        grades.append(grade)\n",
    "        gradeSeries[grade] += 1\n",
    "        totalScore += score\n",
    "        numStudents += 1\n",
    "    else:\n",
    "        print(\"成績必須在0到100間 請重新輸入\")\n",
    "\n",
    "if numStudents > 0:\n",
    "    averageScore = totalScore / numStudents\n",
    "else:\n",
    "    averageScore = 0\n",
    "print(f\"\\n班級學生人數: {numStudents}\")\n",
    "print(f\"班級平均成績: {averageScore:.2f}\")\n",
    "\n",
    "for grade, count in gradeSeries.items():\n",
    "    print(f\"{grade} {count}\")\n"
   ]
  },
  {
   "cell_type": "code",
   "execution_count": null,
   "id": "a3082bf3",
   "metadata": {},
   "outputs": [],
   "source": []
  }
 ],
 "metadata": {
  "kernelspec": {
   "display_name": "Python 3 (ipykernel)",
   "language": "python",
   "name": "python3"
  },
  "language_info": {
   "codemirror_mode": {
    "name": "ipython",
    "version": 3
   },
   "file_extension": ".py",
   "mimetype": "text/x-python",
   "name": "python",
   "nbconvert_exporter": "python",
   "pygments_lexer": "ipython3",
   "version": "3.9.7"
  }
 },
 "nbformat": 4,
 "nbformat_minor": 5
}
