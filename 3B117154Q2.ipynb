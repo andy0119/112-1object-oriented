{
 "cells": [
  {
   "cell_type": "code",
   "execution_count": 1,
   "id": "c49b94e9",
   "metadata": {},
   "outputs": [
    {
     "name": "stdout",
     "output_type": "stream",
     "text": [
      "現在幾年幾月請 輸入格式 例如 2024010820240108\n",
      "下一題\n",
      "現在星期幾 輸入格式 例如 星期一星期一\n",
      "下一題\n",
      "這個地方叫什麼名字 例如 台中台中\n",
      "下一題\n",
      "你的電話號碼是什麼 例如 09123456780912345678\n",
      "下一題\n",
      "你今年多大 例如 2020\n",
      "下一題\n",
      "你什麼時候出生 例如 20042004\n",
      "下一題\n",
      "現任總統是誰 例如 蔡英文蔡英文\n",
      "下一題\n",
      "你母親的娘家姓是什麼 例如 蔡蔡\n",
      "下一題\n",
      "0\n",
      "normal\n"
     ]
    }
   ],
   "source": [
    "score = 0\n",
    "a = int(input(\"現在幾年幾月請 輸入格式 例如 20240108\"))\n",
    "if a != 20240108:\n",
    "    score = score+1\n",
    "else:\n",
    "    print('下一題')\n",
    "b = input(\"現在星期幾 輸入格式 例如 星期一\")\n",
    "if b != \"星期一\":\n",
    "    score = score+1\n",
    "else:\n",
    "    print('下一題')\n",
    "c = input(\"這個地方叫什麼名字 例如 台中\")\n",
    "if c != \"台中\":\n",
    "    score = score+1\n",
    "else:\n",
    "    print('下一題')\n",
    "d = input(\"你的電話號碼是什麼 例如 0912345678\")\n",
    "if d != \"0912345678\" :\n",
    "    score = score+1\n",
    "else:\n",
    "    print('下一題')\n",
    "e = int(input(\"你今年多大 例如 20\"))\n",
    "if e != 20:\n",
    "    score = score+1\n",
    "else:\n",
    "    print('下一題')\n",
    "f = int(input(\"你什麼時候出生 例如 2004\"))\n",
    "if f != 2004:\n",
    "    score = score+1\n",
    "else:\n",
    "    print('下一題')\n",
    "g = input(\"現任總統是誰 例如 蔡英文\")\n",
    "if g != \"蔡英文\":\n",
    "    score = score+1\n",
    "else:\n",
    "    print('下一題')   \n",
    "h = input(\"你母親的娘家姓是什麼 例如 蔡\")\n",
    "if h != \"蔡\":\n",
    "    score = score+1\n",
    "else:\n",
    "    print('下一題') \n",
    "print(score)\n",
    "if score <= 2:\n",
    "    print(\"normal\")\n",
    "elif score <=4:\n",
    "    print(\"mild\")\n",
    "else:\n",
    "    print(\"moderate\")"
   ]
  }
 ],
 "metadata": {
  "kernelspec": {
   "display_name": "Python 3 (ipykernel)",
   "language": "python",
   "name": "python3"
  },
  "language_info": {
   "codemirror_mode": {
    "name": "ipython",
    "version": 3
   },
   "file_extension": ".py",
   "mimetype": "text/x-python",
   "name": "python",
   "nbconvert_exporter": "python",
   "pygments_lexer": "ipython3",
   "version": "3.9.7"
  }
 },
 "nbformat": 4,
 "nbformat_minor": 5
}
